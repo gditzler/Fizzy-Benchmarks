{
 "metadata": {
  "name": "",
  "signature": "sha256:39e669bab665525ac69a960d5771f355d7650254e07c6e6e0416f1016a5ed4ce"
 },
 "nbformat": 3,
 "nbformat_minor": 0,
 "worksheets": [
  {
   "cells": [
    {
     "cell_type": "markdown",
     "metadata": {},
     "source": [
      "# Overview"
     ]
    },
    {
     "cell_type": "code",
     "collapsed": false,
     "input": [
      "%%bash \n",
      "rm ../outputs/*.txt"
     ],
     "language": "python",
     "metadata": {},
     "outputs": [],
     "prompt_number": 1
    },
    {
     "cell_type": "markdown",
     "metadata": {},
     "source": [
      "# American Gut (SEX): NPFS (JMI & MIM)"
     ]
    },
    {
     "cell_type": "code",
     "collapsed": false,
     "input": [
      "%%bash \n",
      "echo \"Running MIM; AG-SEX\"\n",
      "fizzy -l SEX \\\n",
      "      -f MIM \\\n",
      "      -i ../../DataCollections/AmericanGut/AmericanGut-Gut-Sex.biom \\\n",
      "      -m ../../DataCollections/AmericanGut/AmericanGut-Gut-Sex.txt \\\n",
      "      -o ../outputs/AmericanGut-Gut-Sex-Results-Fizzy-MIM.txt \\\n",
      "      -n 5 -s\n",
      "\n",
      "echo \"Running JMI; AG-SEX\"\n",
      "fizzy -l SEX \\\n",
      "      -f JMI \\\n",
      "      -i ../../DataCollections/AmericanGut/AmericanGut-Gut-Sex.biom \\\n",
      "      -m ../../DataCollections/AmericanGut/AmericanGut-Gut-Sex.txt \\\n",
      "      -o ../outputs/AmericanGut-Gut-Sex-Results-Fizzy-JMI.txt \\\n",
      "      -n 5 -s"
     ],
     "language": "python",
     "metadata": {},
     "outputs": [
      {
       "output_type": "stream",
       "stream": "stdout",
       "text": [
        "Running MIM; AG-SEX\n",
        "Running JMI; AG-SEX\n"
       ]
      }
     ],
     "prompt_number": 2
    },
    {
     "cell_type": "code",
     "collapsed": false,
     "input": [
      "%%bash\n",
      "cores=5\n",
      "boots=500\n",
      "nsel=50\n",
      "\n",
      "echo \"Running MIM; AG-SEX\"\n",
      "npfs -l SEX \\\n",
      "     -f MIM \\\n",
      "     -i ../../DataCollections/AmericanGut/AmericanGut-Gut-Sex.biom \\\n",
      "     -m ../../DataCollections/AmericanGut/AmericanGut-Gut-Sex.txt \\\n",
      "     -o tmp.txt \\\n",
      "     -n ${nsel} -c ${cores} -b ${boots} -s \\\n",
      "     -r ../outputs/AmericanGut-Gut-Sex-Results-NPFS-MIM.biom\n",
      "cat tmp.txt | sed -e \"s/[a-z]\\_\\_//g\" -e \"s/,,//g\" -e 's/,\\t/\\t/g' > ../outputs/AmericanGut-Gut-Sex-Results-NPFS-MIM.txt\n",
      "rm tmp.txt\n",
      "\n",
      "echo \"Running MIM; AG-SEX\"\n",
      "npfs -l SEX \\\n",
      "     -f JMI \\\n",
      "     -i ../../DataCollections/AmericanGut/AmericanGut-Gut-Sex.biom \\\n",
      "     -m ../../DataCollections/AmericanGut/AmericanGut-Gut-Sex.txt \\\n",
      "     -o tmp.txt \\\n",
      "     -n ${nsel} -c ${cores} -b ${boots} -s \\\n",
      "     -r ../outputs/AmericanGut-Gut-Sex-Results-NPFS-JMI.biom\n",
      "cat tmp.txt | sed -e \"s/[a-z]\\_\\_//g\" -e \"s/,,//g\" -e 's/,\\t/\\t/g' > ../outputs/AmericanGut-Gut-Sex-Results-NPFS-JMI.txt\n",
      "rm tmp.txt"
     ],
     "language": "python",
     "metadata": {},
     "outputs": [
      {
       "output_type": "stream",
       "stream": "stdout",
       "text": [
        "Process is terminated.\n"
       ]
      }
     ],
     "prompt_number": 3
    },
    {
     "cell_type": "markdown",
     "metadata": {},
     "source": [
      "# American Gut (DIET_TYPE): NPFS (JMI & MIM)"
     ]
    },
    {
     "cell_type": "code",
     "collapsed": false,
     "input": [
      "%%bash \n",
      "echo \"Running MIM; AG-DIET\"\n",
      "fizzy -l DIET_TYPE \\\n",
      "      -f MIM \\\n",
      "      -i ../../DataCollections/AmericanGut/AmericanGut-Gut-Diet-OmniVegan.biom \\\n",
      "      -m ../../DataCollections/AmericanGut/AmericanGut-Gut-Diet-OmniVegan.txt \\\n",
      "      -o ../outputs/AmericanGut-Gut-Diet-OmniVegan-Results-Fizzy-MIM.txt \\\n",
      "      -n 5 -s\n",
      "\n",
      "echo \"Running MIM; AG-DIET\"\n",
      "fizzy -l DIET_TYPE \\\n",
      "      -f JMI \\\n",
      "      -i ../../DataCollections/AmericanGut/AmericanGut-Gut-Diet-OmniVegan.biom \\\n",
      "      -m ../../DataCollections/AmericanGut/AmericanGut-Gut-Diet-OmniVegan.txt \\\n",
      "      -o ../outputs/AmericanGut-Gut-Diet-OmniVegan-Results-Fizzy-JMI.txt \\\n",
      "      -n 5 -s"
     ],
     "language": "python",
     "metadata": {},
     "outputs": [],
     "prompt_number": 5
    },
    {
     "cell_type": "code",
     "collapsed": false,
     "input": [
      "%%bash\n",
      "cores=5\n",
      "boots=500\n",
      "nsel=50\n",
      "\n",
      "echo \"Running MIM; AG-SEX\"\n",
      "npfs -l SEX \\\n",
      "     -f MIM \\\n",
      "     -i ../../DataCollections/AmericanGut/AmericanGut-Gut-Diet-OmniVegan.biom \\\n",
      "     -m ../../DataCollections/AmericanGut/AmericanGut-Gut-Diet-OmniVegan.txt \\\n",
      "     -o tmp.txt \\\n",
      "     -n ${nsel} -c ${cores} -b ${boots} -s \\\n",
      "     -r ../outputs/AmericanGut-Gut-Diet-OmniVegan-Results-NPFS-MIM.biom\n",
      "cat tmp.txt | sed -e \"s/[a-z]\\_\\_//g\" -e \"s/,,//g\" -e 's/,\\t/\\t/g' > ../outputs/AmericanGut-Gut-Diet-OmniVegan-Results-NPFS-MIM.txt\n",
      "rm tmp.txt\n",
      "\n",
      "echo \"Running MIM; AG-SEX\"\n",
      "npfs -l SEX \\\n",
      "     -f JMI \\\n",
      "     -i ../../DataCollections/AmericanGut/AmericanGut-Gut-Diet-OmniVegan.biom \\\n",
      "     -m ../../DataCollections/AmericanGut/AmericanGut-Gut-Diet-OmniVegan.txt \\\n",
      "     -o tmp.txt \\\n",
      "     -n ${nsel} -c ${cores} -b ${boots} -s \\\n",
      "     -r ../outputs/AmericanGut-Gut-Diet-OmniVegan-Results-NPFS-JMI.biom\n",
      "cat tmp.txt | sed -e \"s/[a-z]\\_\\_//g\" -e \"s/,,//g\" -e 's/,\\t/\\t/g' > ../outputs/AmericanGut-Gut-Diet-OmniVegan-Results-NPFS-JMI.txt\n",
      "rm tmp.txt"
     ],
     "language": "python",
     "metadata": {},
     "outputs": []
    },
    {
     "cell_type": "markdown",
     "metadata": {},
     "source": [
      "# Caporaso (SEX): NPFS (JMI & MIM)"
     ]
    },
    {
     "cell_type": "code",
     "collapsed": false,
     "input": [
      "%%bash \n",
      "echo \"Running MIM; AG-DIET\"\n",
      "fizzy -l DIET_TYPE \\\n",
      "      -f MIM \\\n",
      "      -i ../../DataCollections/Caporaso/caporaso-gut.biom \\\n",
      "      -m ../../DataCollections/Caporaso/caporaso-gut.txt \\\n",
      "      -o ../outputs/caporaso-gut-Results-Fizzy-MIM.txt \\\n",
      "      -n 5 -s\n",
      "\n",
      "echo \"Running MIM; AG-DIET\"\n",
      "fizzy -l DIET_TYPE \\\n",
      "      -f JMI \\\n",
      "      -i ../../DataCollections/Caporaso/caporaso-gut.biom \\\n",
      "      -m ../../DataCollections/Caporaso/caporaso-gut.txt \\\n",
      "      -o ../outputs/caporaso-gut-Results-Fizzy-JMI.txt \\\n",
      "      -n 5 -s"
     ],
     "language": "python",
     "metadata": {},
     "outputs": [
      {
       "output_type": "stream",
       "stream": "stdout",
       "text": [
        "#SampleID\tDIET_TYPE\n",
        "000013989.1259608\tOmnivore\n",
        "000011224.1210932\tVegan\n",
        "000011170.1257504\tOmnivore\n",
        "000005034.1076350\tOmnivore\n",
        "000011351.1210669\tOmnivore\n",
        "000012120.1210523\tOmnivore\n",
        "000004731.1076409\tOmnivore\n",
        "000001797.1075964\tOmnivore\n",
        "000001376.1131725\tOmnivore\n"
       ]
      }
     ],
     "prompt_number": 4
    },
    {
     "cell_type": "code",
     "collapsed": false,
     "input": [
      "%%bash\n",
      "cores=5\n",
      "boots=500\n",
      "nsel=50\n",
      "\n",
      "echo \"Running MIM; AG-SEX\"\n",
      "npfs -l SEX \\\n",
      "     -f MIM \\\n",
      "     -i ../../DataCollections/Caporaso/caporaso-gut.biom \\\n",
      "     -m ../../DataCollections/Caporaso/caporaso-gut.txt \\\n",
      "     -o tmp.txt \\\n",
      "     -n ${nsel} -c ${cores} -b ${boots} -s \\\n",
      "     -r ../outputs/Caporaso/caporaso-gut-Results-NPFS-MIM.biom\n",
      "cat tmp.txt | sed -e \"s/[a-z]\\_\\_//g\" -e \"s/,,//g\" -e 's/,\\t/\\t/g' > ../outputs/Caporaso/caporaso-gut-Results-NPFS-MIM.txt\n",
      "rm tmp.txt\n",
      "\n",
      "echo \"Running MIM; AG-SEX\"\n",
      "npfs -l SEX \\\n",
      "     -f JMI \\\n",
      "     -i ../../DataCollections/Caporaso/caporaso-gut.biom \\\n",
      "     -m ../../DataCollections/Caporaso/caporaso-gut.txt \\\n",
      "     -o tmp.txt \\\n",
      "     -n ${nsel} -c ${cores} -b ${boots} -s \\\n",
      "     -r ../outputs/Caporaso/caporaso-gut-Results-NPFS-JMI.biom\n",
      "cat tmp.txt | sed -e \"s/[a-z]\\_\\_//g\" -e \"s/,,//g\" -e 's/,\\t/\\t/g' > ../outputs/Caporaso/caporaso-gut-Results-NPFS-JMI.txt\n",
      "rm tmp.txt"
     ],
     "language": "python",
     "metadata": {},
     "outputs": []
    },
    {
     "cell_type": "code",
     "collapsed": false,
     "input": [],
     "language": "python",
     "metadata": {},
     "outputs": []
    }
   ],
   "metadata": {}
  }
 ]
}