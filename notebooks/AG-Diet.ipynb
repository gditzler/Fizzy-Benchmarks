{
 "metadata": {
  "name": "",
  "signature": "sha256:1289b5a7988c23afb76adeb2a384c51f4983762e3e1955c8edc1315dc4574443"
 },
 "nbformat": 3,
 "nbformat_minor": 0,
 "worksheets": [
  {
   "cells": [
    {
     "cell_type": "code",
     "collapsed": false,
     "input": [
      "import json \n",
      "import numpy as np\n",
      "import pandas as pd\n",
      "import matplotlib.pylab as plt\n",
      "import fizzy_plots"
     ],
     "language": "python",
     "metadata": {},
     "outputs": []
    },
    {
     "cell_type": "code",
     "collapsed": false,
     "input": [
      "!ls -l ../outputs/ | grep Diet"
     ],
     "language": "python",
     "metadata": {},
     "outputs": []
    },
    {
     "cell_type": "markdown",
     "metadata": {},
     "source": [
      "# American-Gut (Diet): NPFS-MIM  {Omni-Vegan}"
     ]
    },
    {
     "cell_type": "code",
     "collapsed": false,
     "input": [
      "fizzy_plots.boxplot(\"/Users/gditzler/Git/DataCollections/AmericanGut/AmericanGut-Gut-Diet-OmniVegan.txt\", \n",
      "                    \"/Users/gditzler/Git/Fizzy-Benchmarks/outputs/AmericanGut-Gut-Diet-OmniVegan-Results-NPFS-MIM.biom\", \n",
      "                    \"DIET_TYPE\", output_fp=\"../outputs/AmericanGut-Gut-Diet-OmniVegan-Results-NPFS-MIM-abunLvl.pdf\", \n",
      "                    groups=[\"Omnivore\",\"Vegan\"])"
     ],
     "language": "python",
     "metadata": {},
     "outputs": []
    },
    {
     "cell_type": "code",
     "collapsed": false,
     "input": [
      "fizzy_plots.feature_histograms(\"/Users/gditzler/Git/DataCollections/AmericanGut/AmericanGut-Gut-Diet-OmniVegan.txt\", \n",
      "                    \"/Users/gditzler/Git/Fizzy-Benchmarks/outputs/AmericanGut-Gut-Diet-OmniVegan-Results-NPFS-MIM.biom\", \n",
      "                    \"DIET_TYPE\", output_fp=\"../outputs/AmericanGut-Gut-Diet-OmniVegan-Results-NPFS-MIM-hists.pdf\", \n",
      "                    groups=[\"Omnivore\",\"Vegan\"])"
     ],
     "language": "python",
     "metadata": {},
     "outputs": []
    },
    {
     "cell_type": "markdown",
     "metadata": {},
     "source": [
      "# American-Gut (Diet): Fizzy+MIM {Omni-Vegan}"
     ]
    },
    {
     "cell_type": "code",
     "collapsed": false,
     "input": [
      "fizzy_plots.boxplot(\"/Users/gditzler/Git/DataCollections/AmericanGut/AmericanGut-Gut-Diet-OmniVegan.txt\", \n",
      "                    \"/Users/gditzler/Git/Fizzy-Benchmarks/outputs/AmericanGut-Gut-Diet-OmniVegan-Results-Fizzy-MIM.biom\", \n",
      "                    \"DIET_TYPE\", output_fp=\"../outputs/AmericanGut-Gut-Diet-OmniVegan-Results-Fizzy-MIM-abunLvl.pdf\", \n",
      "                    groups=[\"Omnivore\",\"Vegan\"])"
     ],
     "language": "python",
     "metadata": {},
     "outputs": []
    },
    {
     "cell_type": "code",
     "collapsed": false,
     "input": [
      "fizzy_plots.feature_histograms(\"/Users/gditzler/Git/DataCollections/AmericanGut/AmericanGut-Gut-Diet-OmniVegan.txt\", \n",
      "                    \"/Users/gditzler/Git/Fizzy-Benchmarks/outputs/AmericanGut-Gut-Diet-OmniVegan-Results-Fizzy-MIM.biom\", \n",
      "                    \"DIET_TYPE\", output_fp=\"../outputs/AmericanGut-Gut-Diet-OmniVegan-Results-Fizzy-MIM-hists.pdf\", \n",
      "                    groups=[\"Omnivore\",\"Vegan\"])"
     ],
     "language": "python",
     "metadata": {},
     "outputs": []
    },
    {
     "cell_type": "markdown",
     "metadata": {},
     "source": [
      "# American-Gut (Diet): NPFS-MIM {Omni-Veggie}"
     ]
    },
    {
     "cell_type": "code",
     "collapsed": false,
     "input": [
      "fizzy_plots.boxplot(\"/Users/gditzler/Git/DataCollections/AmericanGut/AmericanGut-Gut-Diet-OV.txt\", \n",
      "                    \"/Users/gditzler/Git/Fizzy-Benchmarks/outputs/AmericanGut-Gut-Diet-OV-Results-NPFS-MIM.biom\", \n",
      "                    \"DIET_TYPE\", output_fp=\"../outputs/AmericanGut-Gut-Diet-OV-Results-NPFS-MIM-abunLvl.pdf\", \n",
      "                    groups=[\"Omnivore\",\"Veggie\"])"
     ],
     "language": "python",
     "metadata": {},
     "outputs": []
    },
    {
     "cell_type": "code",
     "collapsed": false,
     "input": [
      "fizzy_plots.feature_histograms(\"/Users/gditzler/Git/DataCollections/AmericanGut/AmericanGut-Gut-Diet-OV.txt\", \n",
      "                    \"/Users/gditzler/Git/Fizzy-Benchmarks/outputs/AmericanGut-Gut-Diet-OV-Results-NPFS-MIM.biom\", \n",
      "                    \"DIET_TYPE\", output_fp=\"../outputs/AmericanGut-Gut-Diet-OV-Results-NPFS-MIM-hists.pdf\", \n",
      "                    groups=[\"Omnivore\",\"Veggie\"])"
     ],
     "language": "python",
     "metadata": {},
     "outputs": []
    },
    {
     "cell_type": "markdown",
     "metadata": {},
     "source": [
      "# American-Gut (Diet): Fizzy-MIM  {Omni-Veggie}"
     ]
    },
    {
     "cell_type": "code",
     "collapsed": false,
     "input": [
      "fizzy_plots.boxplot(\"/Users/gditzler/Git/DataCollections/AmericanGut/AmericanGut-Gut-Diet-OV.txt\", \n",
      "                    \"/Users/gditzler/Git/Fizzy-Benchmarks/outputs/AmericanGut-Gut-Diet-OV-Results-Fizzy-MIM.biom\", \n",
      "                    \"DIET_TYPE\", output_fp=\"../outputs/AmericanGut-Gut-Diet-OV-Results-Fizzy-MIM-abunLvl.pdf\", \n",
      "                    groups=[\"Omnivore\",\"Veggie\"])"
     ],
     "language": "python",
     "metadata": {},
     "outputs": []
    },
    {
     "cell_type": "code",
     "collapsed": false,
     "input": [
      "fizzy_plots.feature_histograms(\"/Users/gditzler/Git/DataCollections/AmericanGut/AmericanGut-Gut-Diet-OV.txt\", \n",
      "                    \"/Users/gditzler/Git/Fizzy-Benchmarks/outputs/AmericanGut-Gut-Diet-OV-Results-Fizzy-MIM.biom\", \n",
      "                    \"DIET_TYPE\", output_fp=\"../outputs/AmericanGut-Gut-Diet-OV-Results-Fizzy-MIM-hists.pdf\",\n",
      "                    groups=[\"Omnivore\",\"Veggie\"])"
     ],
     "language": "python",
     "metadata": {},
     "outputs": []
    },
    {
     "cell_type": "code",
     "collapsed": false,
     "input": [],
     "language": "python",
     "metadata": {},
     "outputs": []
    }
   ],
   "metadata": {}
  }
 ]
}