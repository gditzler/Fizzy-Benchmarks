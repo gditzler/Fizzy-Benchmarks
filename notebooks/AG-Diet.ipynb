{
 "metadata": {
  "name": "",
  "signature": "sha256:794103174ac793b2f597beb9407d3cbeb534506afcc9249ab0c92e0888851351"
 },
 "nbformat": 3,
 "nbformat_minor": 0,
 "worksheets": [
  {
   "cells": [
    {
     "cell_type": "code",
     "collapsed": false,
     "input": [
      "import json \n",
      "import numpy as np\n",
      "import pandas as pd\n",
      "import matplotlib.pylab as plt\n",
      "import fizzy_plots"
     ],
     "language": "python",
     "metadata": {},
     "outputs": []
    },
    {
     "cell_type": "markdown",
     "metadata": {},
     "source": [
      "# American-Gut (Diet): NPFS-JMI {Omni-Vegan}"
     ]
    },
    {
     "cell_type": "code",
     "collapsed": false,
     "input": [
      "fizzy_plots.boxplot(\"/Users/gditzler/Git/DataCollections/AmericanGut/AmericanGut-Gut-Diet-OmniVegan.txt\", \n",
      "                    \"/Users/gditzler/Git/Fizzy-Benchmarks/outputs/AmericanGut-Gut-Sex-Results-NPFS-JMI.biom\", \n",
      "                    \"DIET_TYPE\", output_fp=\"\", groups=[\"Omnivore\",\"Vegan\"], delta=.00055)"
     ],
     "language": "python",
     "metadata": {},
     "outputs": []
    },
    {
     "cell_type": "code",
     "collapsed": false,
     "input": [
      "fizzy_plots.feature_histograms(\"/Users/gditzler/Git/DataCollections/AmericanGut/AmericanGut-Gut-Diet-OmniVegan.txt\", \n",
      "                    \"/Users/gditzler/Git/Fizzy-Benchmarks/outputs/AmericanGut-Gut-Sex-Results-NPFS-JMI.biom\", \n",
      "                    \"DIET_TYPE\", groups=[\"Omnivore\",\"Vegan\"])"
     ],
     "language": "python",
     "metadata": {},
     "outputs": []
    },
    {
     "cell_type": "markdown",
     "metadata": {},
     "source": [
      "# American-Gut (Diet): NPFS-MIM  {Omni-Vegan}"
     ]
    },
    {
     "cell_type": "code",
     "collapsed": false,
     "input": [
      "fizzy_plots.boxplot(\"/Users/gditzler/Git/DataCollections/AmericanGut/AmericanGut-Gut-Diet-OmniVegan.txt\", \n",
      "                    \"/Users/gditzler/Git/Fizzy-Benchmarks/outputs/AmericanGut-Gut-Sex-Results-NPFS-MIM.biom\", \n",
      "                    \"DIET_TYPE\", output_fp=\"\", groups=[\"Omnivore\",\"Vegan\"], delta=.00055)"
     ],
     "language": "python",
     "metadata": {},
     "outputs": []
    },
    {
     "cell_type": "code",
     "collapsed": false,
     "input": [
      "fizzy_plots.feature_histograms(\"/Users/gditzler/Git/DataCollections/AmericanGut/AmericanGut-Gut-Diet-OmniVegan.txt\", \n",
      "                    \"/Users/gditzler/Git/Fizzy-Benchmarks/outputs/AmericanGut-Gut-Sex-Results-NPFS-MIM.biom\", \n",
      "                    \"DIET_TYPE\", groups=[\"Omnivore\",\"Vegan\"])"
     ],
     "language": "python",
     "metadata": {},
     "outputs": []
    },
    {
     "cell_type": "markdown",
     "metadata": {},
     "source": [
      "# American-Gut (Diet): Fizzy + JMI {Omni-Vegan}"
     ]
    },
    {
     "cell_type": "code",
     "collapsed": false,
     "input": [],
     "language": "python",
     "metadata": {},
     "outputs": []
    },
    {
     "cell_type": "code",
     "collapsed": false,
     "input": [],
     "language": "python",
     "metadata": {},
     "outputs": []
    },
    {
     "cell_type": "markdown",
     "metadata": {},
     "source": [
      "# American-Gut (Diet): Fizzy+JMI {Omni-Vegan}"
     ]
    },
    {
     "cell_type": "code",
     "collapsed": false,
     "input": [],
     "language": "python",
     "metadata": {},
     "outputs": []
    },
    {
     "cell_type": "code",
     "collapsed": false,
     "input": [],
     "language": "python",
     "metadata": {},
     "outputs": []
    },
    {
     "cell_type": "markdown",
     "metadata": {},
     "source": [
      "# American-Gut (Diet): NPFS-JMI {Omni-Veggie}"
     ]
    },
    {
     "cell_type": "code",
     "collapsed": false,
     "input": [],
     "language": "python",
     "metadata": {},
     "outputs": []
    },
    {
     "cell_type": "code",
     "collapsed": false,
     "input": [],
     "language": "python",
     "metadata": {},
     "outputs": []
    },
    {
     "cell_type": "markdown",
     "metadata": {},
     "source": [
      "# American-Gut (Diet): NPFS-MIM  {Omni-Veggie}"
     ]
    },
    {
     "cell_type": "code",
     "collapsed": false,
     "input": [],
     "language": "python",
     "metadata": {},
     "outputs": []
    },
    {
     "cell_type": "code",
     "collapsed": false,
     "input": [],
     "language": "python",
     "metadata": {},
     "outputs": []
    },
    {
     "cell_type": "markdown",
     "metadata": {},
     "source": [
      "# American-Gut (Diet): Fizzy + MIM {Omni-Veggie}"
     ]
    },
    {
     "cell_type": "code",
     "collapsed": false,
     "input": [],
     "language": "python",
     "metadata": {},
     "outputs": []
    },
    {
     "cell_type": "code",
     "collapsed": false,
     "input": [],
     "language": "python",
     "metadata": {},
     "outputs": []
    },
    {
     "cell_type": "markdown",
     "metadata": {},
     "source": [
      "# American-Gut (Diet): Fizzy + JMI {Omni-Veggie}"
     ]
    },
    {
     "cell_type": "code",
     "collapsed": false,
     "input": [],
     "language": "python",
     "metadata": {},
     "outputs": []
    },
    {
     "cell_type": "code",
     "collapsed": false,
     "input": [],
     "language": "python",
     "metadata": {},
     "outputs": []
    }
   ],
   "metadata": {}
  }
 ]
}