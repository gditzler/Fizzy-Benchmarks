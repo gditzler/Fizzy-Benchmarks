{
 "metadata": {
  "name": "",
  "signature": "sha256:fd182ce667946a61c4b43753501aafca146ebe3039355701ad0713cb40a22a2f"
 },
 "nbformat": 3,
 "nbformat_minor": 0,
 "worksheets": [
  {
   "cells": [
    {
     "cell_type": "code",
     "collapsed": false,
     "input": [
      "import json \n",
      "import numpy as np\n",
      "import pandas as pd\n",
      "import matplotlib.pylab as plt\n",
      "import fizzy_plots"
     ],
     "language": "python",
     "metadata": {},
     "outputs": []
    },
    {
     "cell_type": "markdown",
     "metadata": {},
     "source": [
      "# American-Gut: NPFS-JMI"
     ]
    },
    {
     "cell_type": "code",
     "collapsed": false,
     "input": [
      "fizzy_plots.boxplot(\"/Users/gditzler/Git/DataCollections/AmericanGut/AmericanGut-Gut-Sex.txt\", \n",
      "                    \"/Users/gditzler/Git/Fizzy-Benchmarks/outputs/AmericanGut-Gut-Sex-Results-NPFS-MIM.biom\", \n",
      "                    \"SEX\", output_fp=\"\", groups=[\"male\",\"female\"], delta=.00055)"
     ],
     "language": "python",
     "metadata": {},
     "outputs": []
    },
    {
     "cell_type": "code",
     "collapsed": false,
     "input": [
      "fizzy_plots.feature_histograms(\"/Users/gditzler/Git/DataCollections/AmericanGut/AmericanGut-Gut-Sex.txt\", \n",
      "                    \"/Users/gditzler/Git/Fizzy-Benchmarks/outputs/AmericanGut-Gut-Sex-Results-NPFS-MIM.biom\", \n",
      "                    \"SEX\", groups=[\"male\",\"female\"])"
     ],
     "language": "python",
     "metadata": {},
     "outputs": []
    },
    {
     "cell_type": "code",
     "collapsed": false,
     "input": [],
     "language": "python",
     "metadata": {},
     "outputs": []
    }
   ],
   "metadata": {}
  }
 ]
}