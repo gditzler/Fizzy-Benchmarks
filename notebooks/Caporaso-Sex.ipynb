{
 "metadata": {
  "name": "",
  "signature": "sha256:12a092d3a77f645aa76cafe7fe92975ec38795d09d3101ad6f45b909a51a65bf"
 },
 "nbformat": 3,
 "nbformat_minor": 0,
 "worksheets": [
  {
   "cells": [
    {
     "cell_type": "code",
     "collapsed": false,
     "input": [
      "import json \n",
      "import numpy as np\n",
      "import pandas as pd\n",
      "import matplotlib.pylab as plt\n",
      "import fizzy_plots"
     ],
     "language": "python",
     "metadata": {},
     "outputs": []
    },
    {
     "cell_type": "code",
     "collapsed": false,
     "input": [
      "!ls -l ../outputs/ | grep cap"
     ],
     "language": "python",
     "metadata": {},
     "outputs": []
    },
    {
     "cell_type": "markdown",
     "metadata": {},
     "source": [
      "# Caporaso (Gender): Fizzy-MIM"
     ]
    },
    {
     "cell_type": "code",
     "collapsed": false,
     "input": [
      "fizzy_plots.boxplot(\"/Users/gditzler/Git/DataCollections/Caporaso/caporaso-gut.txt\", \n",
      "                    \"/Users/gditzler/Git/Fizzy-Benchmarks/outputs/caporaso-gut-Results-Fizzy-MIM.biom\", \n",
      "                    \"SEX\", output_fp=\"../outputs/caporaso-gut-Results-Fizzy-MIM-abunLvl.pdf\", groups=[\"male\",\"female\"])"
     ],
     "language": "python",
     "metadata": {},
     "outputs": []
    },
    {
     "cell_type": "code",
     "collapsed": false,
     "input": [
      "fizzy_plots.feature_histograms(\"/Users/gditzler/Git/DataCollections/Caporaso/caporaso-gut.txt\", \n",
      "                    \"/Users/gditzler/Git/Fizzy-Benchmarks/outputs/caporaso-gut-Results-Fizzy-MIM.biom\", \n",
      "                    \"SEX\", output_fp=\"../outputs/caporaso-gut-Results-Fizzy-MIM-hists.pdf\", groups=[\"male\",\"female\"])"
     ],
     "language": "python",
     "metadata": {},
     "outputs": []
    },
    {
     "cell_type": "markdown",
     "metadata": {},
     "source": [
      "# Caporaso (Gender): NPFS-MIM"
     ]
    },
    {
     "cell_type": "code",
     "collapsed": false,
     "input": [
      "fizzy_plots.boxplot(\"/Users/gditzler/Git/DataCollections/Caporaso/caporaso-gut.txt\", \n",
      "                    \"/Users/gditzler/Git/Fizzy-Benchmarks/outputs/caporaso-gut-Results-NPFS-MIM.biom\", \n",
      "                    \"SEX\", output_fp=\"../outputs/caporaso-gut-Results-NPFS-MIM-abunLvl.pdf\", groups=[\"male\",\"female\"])"
     ],
     "language": "python",
     "metadata": {},
     "outputs": []
    },
    {
     "cell_type": "code",
     "collapsed": false,
     "input": [
      "fizzy_plots.feature_histograms(\"/Users/gditzler/Git/DataCollections/Caporaso/caporaso-gut.txt\", \n",
      "                    \"/Users/gditzler/Git/Fizzy-Benchmarks/outputs/caporaso-gut-Results-NPFS-MIM.biom\", \n",
      "                    \"SEX\", output_fp=\"../outputs/caporaso-gut-Results-NPFS-MIM-hists.pdf\", groups=[\"male\",\"female\"])"
     ],
     "language": "python",
     "metadata": {},
     "outputs": []
    },
    {
     "cell_type": "code",
     "collapsed": false,
     "input": [],
     "language": "python",
     "metadata": {},
     "outputs": []
    }
   ],
   "metadata": {}
  }
 ]
}