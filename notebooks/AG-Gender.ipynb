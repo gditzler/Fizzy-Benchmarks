{
 "metadata": {
  "name": "",
  "signature": "sha256:75c1818ab2184961e4ec6d05411da49380990ad053d5c17796011c4d07d22d77"
 },
 "nbformat": 3,
 "nbformat_minor": 0,
 "worksheets": [
  {
   "cells": [
    {
     "cell_type": "code",
     "collapsed": false,
     "input": [
      "import json \n",
      "import numpy as np\n",
      "import pandas as pd\n",
      "import matplotlib.pylab as plt\n",
      "import fizzy_plots"
     ],
     "language": "python",
     "metadata": {},
     "outputs": []
    },
    {
     "cell_type": "code",
     "collapsed": false,
     "input": [
      "!ls -l ../outputs/ | grep Sex"
     ],
     "language": "python",
     "metadata": {},
     "outputs": []
    },
    {
     "cell_type": "markdown",
     "metadata": {},
     "source": [
      "# American-Gut (Gender): NPFS-MIM"
     ]
    },
    {
     "cell_type": "code",
     "collapsed": false,
     "input": [
      "fizzy_plots.boxplot(\"/Users/gditzler/Git/DataCollections/AmericanGut/AmericanGut-Gut-Sex.txt\", \n",
      "                    \"/Users/gditzler/Git/Fizzy-Benchmarks/outputs/AmericanGut-Gut-Sex-Results-NPFS-MIM.biom\", \n",
      "                    \"SEX\", output_fp=\"../outputs/AmericanGut-Gut-Sex-Results-NPFS-MIM-abunLvl.pdf\", groups=[\"male\",\"female\"])"
     ],
     "language": "python",
     "metadata": {},
     "outputs": []
    },
    {
     "cell_type": "code",
     "collapsed": false,
     "input": [
      "fizzy_plots.feature_histograms(\"/Users/gditzler/Git/DataCollections/AmericanGut/AmericanGut-Gut-Sex.txt\", \n",
      "                    \"/Users/gditzler/Git/Fizzy-Benchmarks/outputs/AmericanGut-Gut-Sex-Results-NPFS-MIM.biom\", \n",
      "                    \"SEX\", output_fp=\"../outputs/AmericanGut-Gut-Sex-Results-NPFS-MIM-hists.pdf\", \n",
      "                    groups=[\"male\",\"female\"])"
     ],
     "language": "python",
     "metadata": {},
     "outputs": []
    },
    {
     "cell_type": "markdown",
     "metadata": {},
     "source": [
      "# American-Gut (Gender): Fizzy-MIM"
     ]
    },
    {
     "cell_type": "code",
     "collapsed": false,
     "input": [
      "fizzy_plots.boxplot(\"/Users/gditzler/Git/DataCollections/AmericanGut/AmericanGut-Gut-Sex.txt\", \n",
      "                    \"/Users/gditzler/Git/Fizzy-Benchmarks/outputs/AmericanGut-Gut-Sex-Results-Fizzy-MIM.biom\", \n",
      "                    \"SEX\", output_fp=\"../outputs/AmericanGut-Gut-Sex-Results-Fizzy-MIM-abunLvl.pdf\", \n",
      "                    groups=[\"male\",\"female\"])"
     ],
     "language": "python",
     "metadata": {},
     "outputs": []
    },
    {
     "cell_type": "code",
     "collapsed": false,
     "input": [
      "fizzy_plots.feature_histograms(\"/Users/gditzler/Git/DataCollections/AmericanGut/AmericanGut-Gut-Sex.txt\", \n",
      "                    \"/Users/gditzler/Git/Fizzy-Benchmarks/outputs/AmericanGut-Gut-Sex-Results-Fizzy-MIM.biom\", \n",
      "                    \"SEX\", output_fp=\"../outputs/AmericanGut-Gut-Sex-Results-Fizzy-MIM-hists.pdf\", groups=[\"male\",\"female\"])"
     ],
     "language": "python",
     "metadata": {},
     "outputs": []
    },
    {
     "cell_type": "code",
     "collapsed": false,
     "input": [],
     "language": "python",
     "metadata": {},
     "outputs": []
    }
   ],
   "metadata": {}
  }
 ]
}