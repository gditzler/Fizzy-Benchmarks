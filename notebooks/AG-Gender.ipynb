{
 "metadata": {
  "name": "",
  "signature": "sha256:8527c9530239c814596161f392a738762429c060a2b9ebdf07bd1df4dc3d4f2b"
 },
 "nbformat": 3,
 "nbformat_minor": 0,
 "worksheets": [
  {
   "cells": [
    {
     "cell_type": "code",
     "collapsed": false,
     "input": [
      "import json \n",
      "import numpy as np\n",
      "import pandas as pd\n",
      "import matplotlib.pylab as plt\n",
      "import fizzy_plots"
     ],
     "language": "python",
     "metadata": {},
     "outputs": [],
     "prompt_number": 1
    },
    {
     "cell_type": "markdown",
     "metadata": {},
     "source": [
      "# American-Gut (Gender): NPFS-JMI"
     ]
    },
    {
     "cell_type": "code",
     "collapsed": false,
     "input": [
      "fizzy_plots.boxplot(\"/Users/gditzler/Git/DataCollections/AmericanGut/AmericanGut-Gut-Sex.txt\", \n",
      "                    \"/Users/gditzler/Git/Fizzy-Benchmarks/outputs/AmericanGut-Gut-Sex-Results-NPFS-JMI.biom\", \n",
      "                    \"SEX\", output_fp=\"\", groups=[\"male\",\"female\"], delta=.00055)"
     ],
     "language": "python",
     "metadata": {},
     "outputs": []
    },
    {
     "cell_type": "code",
     "collapsed": false,
     "input": [
      "fizzy_plots.feature_histograms(\"/Users/gditzler/Git/DataCollections/AmericanGut/AmericanGut-Gut-Sex.txt\", \n",
      "                    \"/Users/gditzler/Git/Fizzy-Benchmarks/outputs/AmericanGut-Gut-Sex-Results-NPFS-JMI.biom\", \n",
      "                    \"SEX\", groups=[\"male\",\"female\"])"
     ],
     "language": "python",
     "metadata": {},
     "outputs": []
    },
    {
     "cell_type": "markdown",
     "metadata": {},
     "source": [
      "# American-Gut (Gender): NPFS-MIM"
     ]
    },
    {
     "cell_type": "code",
     "collapsed": false,
     "input": [
      "fizzy_plots.boxplot(\"/Users/gditzler/Git/DataCollections/AmericanGut/AmericanGut-Gut-Sex.txt\", \n",
      "                    \"/Users/gditzler/Git/Fizzy-Benchmarks/outputs/AmericanGut-Gut-Sex-Results-NPFS-MIM.biom\", \n",
      "                    \"SEX\", output_fp=\"\", groups=[\"male\",\"female\"], delta=.00055)"
     ],
     "language": "python",
     "metadata": {},
     "outputs": []
    },
    {
     "cell_type": "code",
     "collapsed": false,
     "input": [
      "fizzy_plots.feature_histograms(\"/Users/gditzler/Git/DataCollections/AmericanGut/AmericanGut-Gut-Sex.txt\", \n",
      "                    \"/Users/gditzler/Git/Fizzy-Benchmarks/outputs/AmericanGut-Gut-Sex-Results-NPFS-MIM.biom\", \n",
      "                    \"SEX\", groups=[\"male\",\"female\"])"
     ],
     "language": "python",
     "metadata": {},
     "outputs": []
    },
    {
     "cell_type": "markdown",
     "metadata": {},
     "source": [
      "# American-Gut (Gender): Fizzy + MIM"
     ]
    },
    {
     "cell_type": "code",
     "collapsed": false,
     "input": [],
     "language": "python",
     "metadata": {},
     "outputs": []
    },
    {
     "cell_type": "code",
     "collapsed": false,
     "input": [],
     "language": "python",
     "metadata": {},
     "outputs": []
    },
    {
     "cell_type": "markdown",
     "metadata": {},
     "source": [
      "# American-Gut (Gender): Fizzy + MIM"
     ]
    },
    {
     "cell_type": "code",
     "collapsed": false,
     "input": [],
     "language": "python",
     "metadata": {},
     "outputs": []
    },
    {
     "cell_type": "code",
     "collapsed": false,
     "input": [],
     "language": "python",
     "metadata": {},
     "outputs": []
    }
   ],
   "metadata": {}
  }
 ]
}