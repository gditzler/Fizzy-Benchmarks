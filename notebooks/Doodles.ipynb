{
 "metadata": {
  "name": "",
  "signature": "sha256:c18ab82d869cf8665302652405b9caba511e3d0327108a724f58008de86ff4e0"
 },
 "nbformat": 3,
 "nbformat_minor": 0,
 "worksheets": [
  {
   "cells": [
    {
     "cell_type": "markdown",
     "metadata": {},
     "source": [
      "# Set Differences with OTU Name"
     ]
    },
    {
     "cell_type": "code",
     "collapsed": false,
     "input": [
      "%%bash\n",
      "if [ -f ../tmp/run1.txt ]; then rm ../tmp/run1.txt; fi\n",
      "if [ -f ../tmp/run2.txt ]; then rm ../tmp/run2.txt; fi\n",
      "if [ -f ../tmp/run3.txt ]; then rm ../tmp/run3.txt; fi\n",
      "if [ -f ../tmp/data.txt ]; then rm ../tmp/data.txt; fi\n",
      "if [ -f ../tmp/header.txt ]; then rm ../tmp/header.txt; fi\n",
      "if [ -f ../tmp/pasted.txt ]; then rm ../tmp/pasted.txt; fi\n",
      "\n",
      "cat ../outputs/AmericanGut-Gut-Diet-OV-Results-Fizzy-MIM.txt | awk -F $'\\t' '{print $1}' | tail -n +2 > ../tmp/run1.txt\n",
      "cat ../outputs/AmericanGut-Gut-Diet-OmniVegan-Results-Fizzy-MIM.txt | awk -F $'\\t' '{print $1}' | tail -n +2 > ../tmp/run2.txt\n",
      "cat ../outputs/AmericanGut-Gut-Sex-Results-Fizzy-MIM.txt | awk -F $'\\t' '{print $1}' | tail -n +2 > ../tmp/run3.txt\n",
      "echo 'OV OmniVegan SEX' | tr ' ' '\\t' > ../tmp/header.txt\n",
      "paste ../tmp/run1.txt ../tmp/run2.txt ../tmp/run3.txt | sed -e \"s/.\\_\\_//g\" > ../tmp/data.txt\n",
      "cat ../tmp/header.txt ../tmp/data.txt > ../tmp/pasted.txt"
     ],
     "language": "python",
     "metadata": {},
     "outputs": []
    },
    {
     "cell_type": "code",
     "collapsed": false,
     "input": [
      "import pandas as pd\n",
      "df = pd.read_csv(\"../tmp/pasted.txt\",sep=\"\\t\")\n",
      "df"
     ],
     "language": "python",
     "metadata": {},
     "outputs": []
    },
    {
     "cell_type": "code",
     "collapsed": false,
     "input": [
      "import numpy as np\n",
      "ov_uni = np.unique(df[\"OV\"])\n",
      "omnivegan_uni = np.unique(df[\"OmniVegan\"])\n",
      "sex_uni = np.unique(df[\"SEX\"])\n",
      "\n",
      "print \"OV:\",len(ov_uni)\n",
      "print \"OmniVegan:\",len(omnivegan_uni)\n",
      "print \"SEX:\",len(sex_uni)"
     ],
     "language": "python",
     "metadata": {},
     "outputs": []
    },
    {
     "cell_type": "code",
     "collapsed": false,
     "input": [
      "from sets import Set \n",
      "ov_set = Set(df[\"OV\"])\n",
      "omnivegan_set = Set(df[\"OmniVegan\"])\n",
      "sex_set = Set(df[\"SEX\"])\n",
      "\n",
      "uniques_all = ov_set.intersection(omnivegan_set).intersection(sex_set)\n",
      "uniques_sex_diet = ov_set.difference(sex_set)\n",
      "\n",
      "\n",
      "print \"Set Differences (Diet vs. Sex):\"\n",
      "for f in list(uniques_sex_diet):\n",
      "    print \"  \"+f\n",
      "print \"OV:\",len(ov_set)\n",
      "print \"OmniVegan:\",len(omnivegan_set)\n",
      "print \"SEX:\",len(sex_set)"
     ],
     "language": "python",
     "metadata": {},
     "outputs": []
    },
    {
     "cell_type": "markdown",
     "metadata": {},
     "source": [
      "# Set Differences with OTU ID"
     ]
    },
    {
     "cell_type": "code",
     "collapsed": false,
     "input": [
      "%%bash\n",
      "if [ -f ../tmp/run1.txt ]; then rm ../tmp/run1.txt; fi\n",
      "if [ -f ../tmp/run2.txt ]; then rm ../tmp/run2.txt; fi\n",
      "if [ -f ../tmp/run3.txt ]; then rm ../tmp/run3.txt; fi\n",
      "if [ -f ../tmp/data.txt ]; then rm ../tmp/data.txt; fi\n",
      "if [ -f ../tmp/header.txt ]; then rm ../tmp/header.txt; fi\n",
      "if [ -f ../tmp/pasted.txt ]; then rm ../tmp/pasted.txt; fi\n",
      "\n",
      "cat ../outputs/AmericanGut-Gut-Diet-OV-Results-Fizzy-MIM.txt | awk -F $'\\t' '{print $2}' | tail -n +2 > ../tmp/run1.txt\n",
      "cat ../outputs/AmericanGut-Gut-Diet-OmniVegan-Results-Fizzy-MIM.txt | awk -F $'\\t' '{print $2}' | tail -n +2 > ../tmp/run2.txt\n",
      "cat ../outputs/AmericanGut-Gut-Sex-Results-Fizzy-MIM.txt | awk -F $'\\t' '{print $2}' | tail -n +2 > ../tmp/run3.txt\n",
      "echo 'OV OmniVegan SEX' | tr ' ' '\\t' > ../tmp/header.txt\n",
      "paste ../tmp/run1.txt ../tmp/run2.txt ../tmp/run3.txt | sed -e \"s/.\\_\\_//g\" > ../tmp/data.txt\n",
      "cat ../tmp/header.txt ../tmp/data.txt > ../tmp/pasted.txt"
     ],
     "language": "python",
     "metadata": {},
     "outputs": []
    },
    {
     "cell_type": "code",
     "collapsed": false,
     "input": [
      "import pandas as pd\n",
      "from sets import Set \n",
      "\n",
      "df = pd.read_csv(\"../tmp/pasted.txt\",sep=\"\\t\")\n",
      "ov_set = Set(df[\"OV\"])\n",
      "omnivegan_set = Set(df[\"OmniVegan\"])\n",
      "sex_set = Set(df[\"SEX\"])\n",
      "\n",
      "uniques_all = ov_set.intersection(ov_set).intersection(sex_set)\n",
      "uniques_sex_diet = ov_set.difference(sex_set)\n",
      "\n",
      "\n",
      "print \"Set Differences (Diet vs. Sex):\", uniques_all\n",
      "print \"Len Differences (Diet vs. Sex):\", len(uniques_all)\n",
      "print \"OV:\",len(ov_set)\n",
      "print \"OmniVegan:\",len(omnivegan_set)\n",
      "print \"SEX:\",len(sex_set)"
     ],
     "language": "python",
     "metadata": {},
     "outputs": []
    },
    {
     "cell_type": "code",
     "collapsed": false,
     "input": [
      "%%bash\n",
      "if [ -f ../tmp/run1.txt ]; then rm ../tmp/run1.txt; fi\n",
      "if [ -f ../tmp/run2.txt ]; then rm ../tmp/run2.txt; fi\n",
      "if [ -f ../tmp/run3.txt ]; then rm ../tmp/run3.txt; fi\n",
      "if [ -f ../tmp/data.txt ]; then rm ../tmp/data.txt; fi\n",
      "if [ -f ../tmp/header.txt ]; then rm ../tmp/header.txt; fi\n",
      "if [ -f ../tmp/pasted.txt ]; then rm ../tmp/pasted.txt; fi\n",
      "\n",
      "cat ../outputs/AmericanGut-Gut-Diet-OmniVegan-Results-Fizzy-MIM.txt | awk -F $'\\t' '{print $2}' | tail -n +2 > ../tmp/run1.txt\n",
      "cat ../outputs/AmericanGut-Gut-Diet-OmniVegan-Results-NPFS-MIM.txt | awk -F $'\\t' '{print $2}' | tail -n +2 > ../tmp/run2.txt\n",
      "echo '' | tr ' ' '\\t' > ../tmp/header.txt\n",
      "paste ../tmp/run1.txt ../tmp/run2.txt ../tmp/run3.txt | sed -e \"s/.\\_\\_//g\" > ../tmp/data.txt\n",
      "cat ../tmp/header.txt ../tmp/data.txt > ../tmp/pasted.txt"
     ],
     "language": "python",
     "metadata": {},
     "outputs": []
    }
   ],
   "metadata": {}
  }
 ]
}